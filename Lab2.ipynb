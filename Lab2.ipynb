{
  "nbformat": 4,
  "nbformat_minor": 0,
  "metadata": {
    "colab": {
      "provenance": [],
      "authorship_tag": "ABX9TyOcDQ9Q5PcSrr5t8TwLTHXB",
      "include_colab_link": true
    },
    "kernelspec": {
      "name": "python3",
      "display_name": "Python 3"
    },
    "language_info": {
      "name": "python"
    }
  },
  "cells": [
    {
      "cell_type": "markdown",
      "metadata": {
        "id": "view-in-github",
        "colab_type": "text"
      },
      "source": [
        "<a href=\"https://colab.research.google.com/github/poset26/AI/blob/main/Lab2.ipynb\" target=\"_parent\"><img src=\"https://colab.research.google.com/assets/colab-badge.svg\" alt=\"Open In Colab\"/></a>"
      ]
    },
    {
      "cell_type": "markdown",
      "source": [
        "1)"
      ],
      "metadata": {
        "id": "HxmCfRdCcJvS"
      }
    },
    {
      "cell_type": "code",
      "source": [
        "for x in range(6):\n",
        "    for y in range(x):\n",
        "        print(y+1,end=\" \")\n",
        "    print(\"\\n\")"
      ],
      "metadata": {
        "colab": {
          "base_uri": "https://localhost:8080/"
        },
        "id": "aWjAkcRucMB0",
        "outputId": "0c7746aa-124a-4b25-855a-66027e4f3904"
      },
      "execution_count": 1,
      "outputs": [
        {
          "output_type": "stream",
          "name": "stdout",
          "text": [
            "\n",
            "\n",
            "1 \n",
            "\n",
            "1 2 \n",
            "\n",
            "1 2 3 \n",
            "\n",
            "1 2 3 4 \n",
            "\n",
            "1 2 3 4 5 \n",
            "\n"
          ]
        }
      ]
    },
    {
      "cell_type": "markdown",
      "source": [
        "2)"
      ],
      "metadata": {
        "id": "lvx3X-vCcP_X"
      }
    },
    {
      "cell_type": "code",
      "source": [
        "number = 10\n",
        "print(sum(range(number+1)))"
      ],
      "metadata": {
        "colab": {
          "base_uri": "https://localhost:8080/"
        },
        "id": "c9ZoUgYkcRFr",
        "outputId": "ab4c6bcb-371e-4bf9-f217-32cac764beea"
      },
      "execution_count": 2,
      "outputs": [
        {
          "output_type": "stream",
          "name": "stdout",
          "text": [
            "55\n"
          ]
        }
      ]
    },
    {
      "cell_type": "markdown",
      "source": [
        "3)"
      ],
      "metadata": {
        "id": "jIzAQSmVcUZy"
      }
    },
    {
      "cell_type": "code",
      "source": [
        "numbers = [12, 75, 150, 180, 145, 525, 50]\n",
        "\n",
        "for n in numbers:\n",
        "    if n> 500:\n",
        "        break\n",
        "    elif n%5==0 and n <= 150:\n",
        "        print(n)"
      ],
      "metadata": {
        "colab": {
          "base_uri": "https://localhost:8080/"
        },
        "id": "RqIFOziecVZc",
        "outputId": "8c65e9a9-1556-425a-f4d1-4fb030be3c82"
      },
      "execution_count": 3,
      "outputs": [
        {
          "output_type": "stream",
          "name": "stdout",
          "text": [
            "75\n",
            "150\n",
            "145\n"
          ]
        }
      ]
    },
    {
      "cell_type": "markdown",
      "source": [
        "4)"
      ],
      "metadata": {
        "id": "Oma3SBtjcZZc"
      }
    },
    {
      "cell_type": "code",
      "source": [
        "number = 75869\n",
        "num = str(number)\n",
        "length = 0\n",
        "while len(num) > 0:\n",
        "    length += 1\n",
        "    num = num[1:]\n",
        "print(length)"
      ],
      "metadata": {
        "colab": {
          "base_uri": "https://localhost:8080/"
        },
        "id": "b0d2Mqa3cZ-s",
        "outputId": "2204976e-0804-4126-96ef-ff9c0d2f7bc4"
      },
      "execution_count": 4,
      "outputs": [
        {
          "output_type": "stream",
          "name": "stdout",
          "text": [
            "5\n"
          ]
        }
      ]
    },
    {
      "cell_type": "markdown",
      "source": [
        "5)"
      ],
      "metadata": {
        "id": "csjtzE_Fcc8n"
      }
    },
    {
      "cell_type": "code",
      "source": [
        "for x in range(5):\n",
        "    for y in range(5-x)[::-1]:\n",
        "        print(str(y+1) +  \" \",end=\"\")\n",
        "    print(\"\\n\")"
      ],
      "metadata": {
        "colab": {
          "base_uri": "https://localhost:8080/"
        },
        "id": "hNo-9nO0cdtw",
        "outputId": "a9a50ed1-8f38-4661-f2e6-688053772885"
      },
      "execution_count": 5,
      "outputs": [
        {
          "output_type": "stream",
          "name": "stdout",
          "text": [
            "5 4 3 2 1 \n",
            "\n",
            "4 3 2 1 \n",
            "\n",
            "3 2 1 \n",
            "\n",
            "2 1 \n",
            "\n",
            "1 \n",
            "\n"
          ]
        }
      ]
    },
    {
      "cell_type": "markdown",
      "source": [
        "6)"
      ],
      "metadata": {
        "id": "VXhd0Oyzcgsc"
      }
    },
    {
      "cell_type": "code",
      "source": [
        "list1 = [10, 20, 30, 40, 50]\n",
        "for x in list1[::-1]:   print(x)"
      ],
      "metadata": {
        "colab": {
          "base_uri": "https://localhost:8080/"
        },
        "id": "V9hUTrFvcjxR",
        "outputId": "27e33515-305b-43d8-fa3f-3394c4d93e78"
      },
      "execution_count": 6,
      "outputs": [
        {
          "output_type": "stream",
          "name": "stdout",
          "text": [
            "50\n",
            "40\n",
            "30\n",
            "20\n",
            "10\n"
          ]
        }
      ]
    },
    {
      "cell_type": "markdown",
      "source": [
        "7)"
      ],
      "metadata": {
        "id": "U6SDld8UclWC"
      }
    },
    {
      "cell_type": "code",
      "source": [
        "for x in range(10): print(x-10)"
      ],
      "metadata": {
        "colab": {
          "base_uri": "https://localhost:8080/"
        },
        "id": "VFSZ0DkTcmDp",
        "outputId": "5db29742-635e-4bbc-dce6-1d7dffa12679"
      },
      "execution_count": 7,
      "outputs": [
        {
          "output_type": "stream",
          "name": "stdout",
          "text": [
            "-10\n",
            "-9\n",
            "-8\n",
            "-7\n",
            "-6\n",
            "-5\n",
            "-4\n",
            "-3\n",
            "-2\n",
            "-1\n"
          ]
        }
      ]
    },
    {
      "cell_type": "markdown",
      "source": [
        "8)"
      ],
      "metadata": {
        "id": "D0bJjZPEcpef"
      }
    },
    {
      "cell_type": "code",
      "source": [
        "\n",
        "my_list = [10, 20, 30, 40, 50, 60, 70, 80, 90, 100]\n",
        "\n",
        "for x in my_list[1::2]: print(x)\n",
        "print(\"\\n\\nB\\n\")\n",
        "for x in range(len(my_list)):\n",
        "    if x%2 == 1:    print(my_list[x])"
      ],
      "metadata": {
        "colab": {
          "base_uri": "https://localhost:8080/"
        },
        "id": "SlSiUBn8cuD6",
        "outputId": "b2d2a2ce-04c7-4a4d-a06e-ad7548c69d98"
      },
      "execution_count": 11,
      "outputs": [
        {
          "output_type": "stream",
          "name": "stdout",
          "text": [
            "20\n",
            "40\n",
            "60\n",
            "80\n",
            "100\n",
            "\n",
            "\n",
            "B\n",
            "\n",
            "20\n",
            "40\n",
            "60\n",
            "80\n",
            "100\n"
          ]
        }
      ]
    },
    {
      "cell_type": "markdown",
      "source": [
        "9)"
      ],
      "metadata": {
        "id": "xjg4OVLxdBzN"
      }
    },
    {
      "cell_type": "code",
      "source": [
        "import numpy\n",
        "\n",
        "sampleArray = numpy.array([[34,43,73],[82,22,12],[53,94,66]])\n",
        "\n",
        "case1 = sampleArray[:,numpy.argsort(sampleArray[1, :])]\n",
        "case2 = sampleArray[numpy.argsort(sampleArray[:,1]),:]\n",
        "case1\n",
        "case2"
      ],
      "metadata": {
        "colab": {
          "base_uri": "https://localhost:8080/"
        },
        "id": "pwrzeaSxdE5b",
        "outputId": "f21bf11c-bbdf-446c-9363-504e92c766e8"
      },
      "execution_count": 13,
      "outputs": [
        {
          "output_type": "execute_result",
          "data": {
            "text/plain": [
              "array([[82, 22, 12],\n",
              "       [34, 43, 73],\n",
              "       [53, 94, 66]])"
            ]
          },
          "metadata": {},
          "execution_count": 13
        }
      ]
    },
    {
      "cell_type": "markdown",
      "source": [
        "10)"
      ],
      "metadata": {
        "id": "s5Q-gOR6dMFS"
      }
    },
    {
      "cell_type": "code",
      "source": [
        "sampleArray = numpy.array([[34,43,73],[82,22,12],[53,94,66]])\n",
        "newColumn = numpy.array([[10,10,10]])\n",
        "\n",
        "aad = numpy.delete(sampleArray,1,axis=1)\n",
        "fa = numpy.insert(aad,1,newColumn,axis=1)\n",
        "fa"
      ],
      "metadata": {
        "colab": {
          "base_uri": "https://localhost:8080/"
        },
        "id": "j3er_YwtdM9x",
        "outputId": "7d6e963d-7c07-4e50-cd0f-b0e39b1704b7"
      },
      "execution_count": 14,
      "outputs": [
        {
          "output_type": "execute_result",
          "data": {
            "text/plain": [
              "array([[34, 10, 73],\n",
              "       [82, 10, 12],\n",
              "       [53, 10, 66]])"
            ]
          },
          "metadata": {},
          "execution_count": 14
        }
      ]
    },
    {
      "cell_type": "markdown",
      "source": [
        "11)"
      ],
      "metadata": {
        "id": "5kDcNQJXdN1v"
      }
    },
    {
      "cell_type": "code",
      "source": [
        "from random import randint\n",
        "alphabet = list(range(65,91)) + list(range(97,123))\n",
        "print(\"\".join([chr(alphabet[randint(0,52)]) for x in range(5)]))"
      ],
      "metadata": {
        "colab": {
          "base_uri": "https://localhost:8080/",
          "height": 35
        },
        "id": "_2JnjQ17dOsN",
        "outputId": "f43792a9-7057-437e-aa51-43978d0d7ece"
      },
      "execution_count": 20,
      "outputs": [
        {
          "output_type": "execute_result",
          "data": {
            "text/plain": [
              "'ERmxd'"
            ],
            "application/vnd.google.colaboratory.intrinsic+json": {
              "type": "string"
            }
          },
          "metadata": {},
          "execution_count": 20
        }
      ]
    },
    {
      "cell_type": "markdown",
      "source": [
        "12)"
      ],
      "metadata": {
        "id": "t9uMvCmLdkuJ"
      }
    },
    {
      "cell_type": "code",
      "source": [
        "symbol = [32, 33, 35, 36, 37, 38, 40, 41, 42, 43, 44, 45, 46, 47, 58, 59, 60, 61, 62, 63, 64, 91, 92, 93, 94, 95, 96, 123, 124, 125]\n",
        "\n",
        "pwd = \"\".join([chr([alphabet + symbol + list(range(10))][0][randint(0,94)]) for x in range(6)] + [chr(alphabet[randint(0,26)])for _ in range(2)] + [chr(symbol[randint(0,len(symbol))])] + [str(randint(0,10))])\n",
        "print(pwd)\n"
      ],
      "metadata": {
        "colab": {
          "base_uri": "https://localhost:8080/"
        },
        "id": "RCZKhwV-dlR0",
        "outputId": "18caca94-772f-4ed8-d528-0b00c3c532f5"
      },
      "execution_count": 28,
      "outputs": [
        {
          "output_type": "stream",
          "name": "stdout",
          "text": [
            "t@u{@aYL-9\n"
          ]
        }
      ]
    }
  ]
}